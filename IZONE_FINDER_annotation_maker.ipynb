{
  "nbformat": 4,
  "nbformat_minor": 0,
  "metadata": {
    "colab": {
      "name": "IZONE_FINDER_annotation_maker.ipynb",
      "provenance": [],
      "collapsed_sections": [],
      "authorship_tag": "ABX9TyMbvTc4wkvJyWZJdIy/Tjik",
      "include_colab_link": true
    },
    "kernelspec": {
      "name": "python3",
      "display_name": "Python 3"
    },
    "language_info": {
      "name": "python"
    }
  },
  "cells": [
    {
      "cell_type": "markdown",
      "metadata": {
        "id": "view-in-github",
        "colab_type": "text"
      },
      "source": [
        "<a href=\"https://colab.research.google.com/github/cksdlakstp12/izone_finder/blob/main/IZONE_FINDER_annotation_maker.ipynb\" target=\"_parent\"><img src=\"https://colab.research.google.com/assets/colab-badge.svg\" alt=\"Open In Colab\"/></a>"
      ]
    },
    {
      "cell_type": "markdown",
      "metadata": {
        "id": "amln4iy12P2P"
      },
      "source": [
        "# this file for yolo model train"
      ]
    },
    {
      "cell_type": "code",
      "metadata": {
        "id": "JHtosSyC7_DV",
        "colab": {
          "base_uri": "https://localhost:8080/"
        },
        "outputId": "6a88c6de-5871-49f5-b386-9bc8246d3d75"
      },
      "source": [
        "!pip install mtcnn\n",
        "\n",
        "import numpy as np\n",
        "import pickle\n",
        "import zipfile\n",
        "import time\n",
        "import os\n",
        "\n",
        "import cv2\n",
        "import matplotlib.pyplot as plt\n",
        "from PIL import Image\n",
        "\n",
        "import mtcnn\n",
        "import tensorflow as tf\n",
        "from mtcnn.mtcnn import MTCNN\n",
        "\n",
        "from google.colab import drive\n",
        "drive.mount(\"/content/drive\")"
      ],
      "execution_count": null,
      "outputs": [
        {
          "output_type": "stream",
          "name": "stdout",
          "text": [
            "Collecting mtcnn\n",
            "  Downloading mtcnn-0.1.1-py3-none-any.whl (2.3 MB)\n",
            "\u001b[?25l\r\u001b[K     |▏                               | 10 kB 24.7 MB/s eta 0:00:01\r\u001b[K     |▎                               | 20 kB 30.2 MB/s eta 0:00:01\r\u001b[K     |▍                               | 30 kB 35.0 MB/s eta 0:00:01\r\u001b[K     |▋                               | 40 kB 31.4 MB/s eta 0:00:01\r\u001b[K     |▊                               | 51 kB 23.2 MB/s eta 0:00:01\r\u001b[K     |▉                               | 61 kB 22.5 MB/s eta 0:00:01\r\u001b[K     |█                               | 71 kB 21.5 MB/s eta 0:00:01\r\u001b[K     |█▏                              | 81 kB 20.7 MB/s eta 0:00:01\r\u001b[K     |█▎                              | 92 kB 20.6 MB/s eta 0:00:01\r\u001b[K     |█▌                              | 102 kB 21.1 MB/s eta 0:00:01\r\u001b[K     |█▋                              | 112 kB 21.1 MB/s eta 0:00:01\r\u001b[K     |█▊                              | 122 kB 21.1 MB/s eta 0:00:01\r\u001b[K     |█▉                              | 133 kB 21.1 MB/s eta 0:00:01\r\u001b[K     |██                              | 143 kB 21.1 MB/s eta 0:00:01\r\u001b[K     |██▏                             | 153 kB 21.1 MB/s eta 0:00:01\r\u001b[K     |██▎                             | 163 kB 21.1 MB/s eta 0:00:01\r\u001b[K     |██▌                             | 174 kB 21.1 MB/s eta 0:00:01\r\u001b[K     |██▋                             | 184 kB 21.1 MB/s eta 0:00:01\r\u001b[K     |██▊                             | 194 kB 21.1 MB/s eta 0:00:01\r\u001b[K     |███                             | 204 kB 21.1 MB/s eta 0:00:01\r\u001b[K     |███                             | 215 kB 21.1 MB/s eta 0:00:01\r\u001b[K     |███▏                            | 225 kB 21.1 MB/s eta 0:00:01\r\u001b[K     |███▍                            | 235 kB 21.1 MB/s eta 0:00:01\r\u001b[K     |███▌                            | 245 kB 21.1 MB/s eta 0:00:01\r\u001b[K     |███▋                            | 256 kB 21.1 MB/s eta 0:00:01\r\u001b[K     |███▊                            | 266 kB 21.1 MB/s eta 0:00:01\r\u001b[K     |████                            | 276 kB 21.1 MB/s eta 0:00:01\r\u001b[K     |████                            | 286 kB 21.1 MB/s eta 0:00:01\r\u001b[K     |████▏                           | 296 kB 21.1 MB/s eta 0:00:01\r\u001b[K     |████▍                           | 307 kB 21.1 MB/s eta 0:00:01\r\u001b[K     |████▌                           | 317 kB 21.1 MB/s eta 0:00:01\r\u001b[K     |████▋                           | 327 kB 21.1 MB/s eta 0:00:01\r\u001b[K     |████▉                           | 337 kB 21.1 MB/s eta 0:00:01\r\u001b[K     |█████                           | 348 kB 21.1 MB/s eta 0:00:01\r\u001b[K     |█████                           | 358 kB 21.1 MB/s eta 0:00:01\r\u001b[K     |█████▏                          | 368 kB 21.1 MB/s eta 0:00:01\r\u001b[K     |█████▍                          | 378 kB 21.1 MB/s eta 0:00:01\r\u001b[K     |█████▌                          | 389 kB 21.1 MB/s eta 0:00:01\r\u001b[K     |█████▋                          | 399 kB 21.1 MB/s eta 0:00:01\r\u001b[K     |█████▉                          | 409 kB 21.1 MB/s eta 0:00:01\r\u001b[K     |██████                          | 419 kB 21.1 MB/s eta 0:00:01\r\u001b[K     |██████                          | 430 kB 21.1 MB/s eta 0:00:01\r\u001b[K     |██████▎                         | 440 kB 21.1 MB/s eta 0:00:01\r\u001b[K     |██████▍                         | 450 kB 21.1 MB/s eta 0:00:01\r\u001b[K     |██████▌                         | 460 kB 21.1 MB/s eta 0:00:01\r\u001b[K     |██████▊                         | 471 kB 21.1 MB/s eta 0:00:01\r\u001b[K     |██████▉                         | 481 kB 21.1 MB/s eta 0:00:01\r\u001b[K     |███████                         | 491 kB 21.1 MB/s eta 0:00:01\r\u001b[K     |███████                         | 501 kB 21.1 MB/s eta 0:00:01\r\u001b[K     |███████▎                        | 512 kB 21.1 MB/s eta 0:00:01\r\u001b[K     |███████▍                        | 522 kB 21.1 MB/s eta 0:00:01\r\u001b[K     |███████▌                        | 532 kB 21.1 MB/s eta 0:00:01\r\u001b[K     |███████▊                        | 542 kB 21.1 MB/s eta 0:00:01\r\u001b[K     |███████▉                        | 552 kB 21.1 MB/s eta 0:00:01\r\u001b[K     |████████                        | 563 kB 21.1 MB/s eta 0:00:01\r\u001b[K     |████████▏                       | 573 kB 21.1 MB/s eta 0:00:01\r\u001b[K     |████████▎                       | 583 kB 21.1 MB/s eta 0:00:01\r\u001b[K     |████████▍                       | 593 kB 21.1 MB/s eta 0:00:01\r\u001b[K     |████████▌                       | 604 kB 21.1 MB/s eta 0:00:01\r\u001b[K     |████████▊                       | 614 kB 21.1 MB/s eta 0:00:01\r\u001b[K     |████████▉                       | 624 kB 21.1 MB/s eta 0:00:01\r\u001b[K     |█████████                       | 634 kB 21.1 MB/s eta 0:00:01\r\u001b[K     |█████████▏                      | 645 kB 21.1 MB/s eta 0:00:01\r\u001b[K     |█████████▎                      | 655 kB 21.1 MB/s eta 0:00:01\r\u001b[K     |█████████▍                      | 665 kB 21.1 MB/s eta 0:00:01\r\u001b[K     |█████████▋                      | 675 kB 21.1 MB/s eta 0:00:01\r\u001b[K     |█████████▊                      | 686 kB 21.1 MB/s eta 0:00:01\r\u001b[K     |█████████▉                      | 696 kB 21.1 MB/s eta 0:00:01\r\u001b[K     |██████████                      | 706 kB 21.1 MB/s eta 0:00:01\r\u001b[K     |██████████▏                     | 716 kB 21.1 MB/s eta 0:00:01\r\u001b[K     |██████████▎                     | 727 kB 21.1 MB/s eta 0:00:01\r\u001b[K     |██████████▍                     | 737 kB 21.1 MB/s eta 0:00:01\r\u001b[K     |██████████▋                     | 747 kB 21.1 MB/s eta 0:00:01\r\u001b[K     |██████████▊                     | 757 kB 21.1 MB/s eta 0:00:01\r\u001b[K     |██████████▉                     | 768 kB 21.1 MB/s eta 0:00:01\r\u001b[K     |███████████                     | 778 kB 21.1 MB/s eta 0:00:01\r\u001b[K     |███████████▏                    | 788 kB 21.1 MB/s eta 0:00:01\r\u001b[K     |███████████▎                    | 798 kB 21.1 MB/s eta 0:00:01\r\u001b[K     |███████████▌                    | 808 kB 21.1 MB/s eta 0:00:01\r\u001b[K     |███████████▋                    | 819 kB 21.1 MB/s eta 0:00:01\r\u001b[K     |███████████▊                    | 829 kB 21.1 MB/s eta 0:00:01\r\u001b[K     |███████████▉                    | 839 kB 21.1 MB/s eta 0:00:01\r\u001b[K     |████████████                    | 849 kB 21.1 MB/s eta 0:00:01\r\u001b[K     |████████████▏                   | 860 kB 21.1 MB/s eta 0:00:01\r\u001b[K     |████████████▎                   | 870 kB 21.1 MB/s eta 0:00:01\r\u001b[K     |████████████▌                   | 880 kB 21.1 MB/s eta 0:00:01\r\u001b[K     |████████████▋                   | 890 kB 21.1 MB/s eta 0:00:01\r\u001b[K     |████████████▊                   | 901 kB 21.1 MB/s eta 0:00:01\r\u001b[K     |█████████████                   | 911 kB 21.1 MB/s eta 0:00:01\r\u001b[K     |█████████████                   | 921 kB 21.1 MB/s eta 0:00:01\r\u001b[K     |█████████████▏                  | 931 kB 21.1 MB/s eta 0:00:01\r\u001b[K     |█████████████▍                  | 942 kB 21.1 MB/s eta 0:00:01\r\u001b[K     |█████████████▌                  | 952 kB 21.1 MB/s eta 0:00:01\r\u001b[K     |█████████████▋                  | 962 kB 21.1 MB/s eta 0:00:01\r\u001b[K     |█████████████▊                  | 972 kB 21.1 MB/s eta 0:00:01\r\u001b[K     |██████████████                  | 983 kB 21.1 MB/s eta 0:00:01\r\u001b[K     |██████████████                  | 993 kB 21.1 MB/s eta 0:00:01\r\u001b[K     |██████████████▏                 | 1.0 MB 21.1 MB/s eta 0:00:01\r\u001b[K     |██████████████▍                 | 1.0 MB 21.1 MB/s eta 0:00:01\r\u001b[K     |██████████████▌                 | 1.0 MB 21.1 MB/s eta 0:00:01\r\u001b[K     |██████████████▋                 | 1.0 MB 21.1 MB/s eta 0:00:01\r\u001b[K     |██████████████▉                 | 1.0 MB 21.1 MB/s eta 0:00:01\r\u001b[K     |███████████████                 | 1.1 MB 21.1 MB/s eta 0:00:01\r\u001b[K     |███████████████                 | 1.1 MB 21.1 MB/s eta 0:00:01\r\u001b[K     |███████████████▏                | 1.1 MB 21.1 MB/s eta 0:00:01\r\u001b[K     |███████████████▍                | 1.1 MB 21.1 MB/s eta 0:00:01\r\u001b[K     |███████████████▌                | 1.1 MB 21.1 MB/s eta 0:00:01\r\u001b[K     |███████████████▋                | 1.1 MB 21.1 MB/s eta 0:00:01\r\u001b[K     |███████████████▉                | 1.1 MB 21.1 MB/s eta 0:00:01\r\u001b[K     |████████████████                | 1.1 MB 21.1 MB/s eta 0:00:01\r\u001b[K     |████████████████                | 1.1 MB 21.1 MB/s eta 0:00:01\r\u001b[K     |████████████████▎               | 1.1 MB 21.1 MB/s eta 0:00:01\r\u001b[K     |████████████████▍               | 1.2 MB 21.1 MB/s eta 0:00:01\r\u001b[K     |████████████████▌               | 1.2 MB 21.1 MB/s eta 0:00:01\r\u001b[K     |████████████████▊               | 1.2 MB 21.1 MB/s eta 0:00:01\r\u001b[K     |████████████████▉               | 1.2 MB 21.1 MB/s eta 0:00:01\r\u001b[K     |█████████████████               | 1.2 MB 21.1 MB/s eta 0:00:01\r\u001b[K     |█████████████████               | 1.2 MB 21.1 MB/s eta 0:00:01\r\u001b[K     |█████████████████▎              | 1.2 MB 21.1 MB/s eta 0:00:01\r\u001b[K     |█████████████████▍              | 1.2 MB 21.1 MB/s eta 0:00:01\r\u001b[K     |█████████████████▌              | 1.2 MB 21.1 MB/s eta 0:00:01\r\u001b[K     |█████████████████▊              | 1.2 MB 21.1 MB/s eta 0:00:01\r\u001b[K     |█████████████████▉              | 1.3 MB 21.1 MB/s eta 0:00:01\r\u001b[K     |██████████████████              | 1.3 MB 21.1 MB/s eta 0:00:01\r\u001b[K     |██████████████████▏             | 1.3 MB 21.1 MB/s eta 0:00:01\r\u001b[K     |██████████████████▎             | 1.3 MB 21.1 MB/s eta 0:00:01\r\u001b[K     |██████████████████▍             | 1.3 MB 21.1 MB/s eta 0:00:01\r\u001b[K     |██████████████████▌             | 1.3 MB 21.1 MB/s eta 0:00:01\r\u001b[K     |██████████████████▊             | 1.3 MB 21.1 MB/s eta 0:00:01\r\u001b[K     |██████████████████▉             | 1.3 MB 21.1 MB/s eta 0:00:01\r\u001b[K     |███████████████████             | 1.3 MB 21.1 MB/s eta 0:00:01\r\u001b[K     |███████████████████▏            | 1.4 MB 21.1 MB/s eta 0:00:01\r\u001b[K     |███████████████████▎            | 1.4 MB 21.1 MB/s eta 0:00:01\r\u001b[K     |███████████████████▍            | 1.4 MB 21.1 MB/s eta 0:00:01\r\u001b[K     |███████████████████▋            | 1.4 MB 21.1 MB/s eta 0:00:01\r\u001b[K     |███████████████████▊            | 1.4 MB 21.1 MB/s eta 0:00:01\r\u001b[K     |███████████████████▉            | 1.4 MB 21.1 MB/s eta 0:00:01\r\u001b[K     |████████████████████            | 1.4 MB 21.1 MB/s eta 0:00:01\r\u001b[K     |████████████████████▏           | 1.4 MB 21.1 MB/s eta 0:00:01\r\u001b[K     |████████████████████▎           | 1.4 MB 21.1 MB/s eta 0:00:01\r\u001b[K     |████████████████████▍           | 1.4 MB 21.1 MB/s eta 0:00:01\r\u001b[K     |████████████████████▋           | 1.5 MB 21.1 MB/s eta 0:00:01\r\u001b[K     |████████████████████▊           | 1.5 MB 21.1 MB/s eta 0:00:01\r\u001b[K     |████████████████████▉           | 1.5 MB 21.1 MB/s eta 0:00:01\r\u001b[K     |█████████████████████           | 1.5 MB 21.1 MB/s eta 0:00:01\r\u001b[K     |█████████████████████▏          | 1.5 MB 21.1 MB/s eta 0:00:01\r\u001b[K     |█████████████████████▎          | 1.5 MB 21.1 MB/s eta 0:00:01\r\u001b[K     |█████████████████████▌          | 1.5 MB 21.1 MB/s eta 0:00:01\r\u001b[K     |█████████████████████▋          | 1.5 MB 21.1 MB/s eta 0:00:01\r\u001b[K     |█████████████████████▊          | 1.5 MB 21.1 MB/s eta 0:00:01\r\u001b[K     |██████████████████████          | 1.5 MB 21.1 MB/s eta 0:00:01\r\u001b[K     |██████████████████████          | 1.6 MB 21.1 MB/s eta 0:00:01\r\u001b[K     |██████████████████████▏         | 1.6 MB 21.1 MB/s eta 0:00:01\r\u001b[K     |██████████████████████▎         | 1.6 MB 21.1 MB/s eta 0:00:01\r\u001b[K     |██████████████████████▌         | 1.6 MB 21.1 MB/s eta 0:00:01\r\u001b[K     |██████████████████████▋         | 1.6 MB 21.1 MB/s eta 0:00:01\r\u001b[K     |██████████████████████▊         | 1.6 MB 21.1 MB/s eta 0:00:01\r\u001b[K     |███████████████████████         | 1.6 MB 21.1 MB/s eta 0:00:01\r\u001b[K     |███████████████████████         | 1.6 MB 21.1 MB/s eta 0:00:01\r\u001b[K     |███████████████████████▏        | 1.6 MB 21.1 MB/s eta 0:00:01\r\u001b[K     |███████████████████████▍        | 1.6 MB 21.1 MB/s eta 0:00:01\r\u001b[K     |███████████████████████▌        | 1.7 MB 21.1 MB/s eta 0:00:01\r\u001b[K     |███████████████████████▋        | 1.7 MB 21.1 MB/s eta 0:00:01\r\u001b[K     |███████████████████████▊        | 1.7 MB 21.1 MB/s eta 0:00:01\r\u001b[K     |████████████████████████        | 1.7 MB 21.1 MB/s eta 0:00:01\r\u001b[K     |████████████████████████        | 1.7 MB 21.1 MB/s eta 0:00:01\r\u001b[K     |████████████████████████▏       | 1.7 MB 21.1 MB/s eta 0:00:01\r\u001b[K     |████████████████████████▍       | 1.7 MB 21.1 MB/s eta 0:00:01\r\u001b[K     |████████████████████████▌       | 1.7 MB 21.1 MB/s eta 0:00:01\r\u001b[K     |████████████████████████▋       | 1.7 MB 21.1 MB/s eta 0:00:01\r\u001b[K     |████████████████████████▉       | 1.8 MB 21.1 MB/s eta 0:00:01\r\u001b[K     |█████████████████████████       | 1.8 MB 21.1 MB/s eta 0:00:01\r\u001b[K     |█████████████████████████       | 1.8 MB 21.1 MB/s eta 0:00:01\r\u001b[K     |█████████████████████████▎      | 1.8 MB 21.1 MB/s eta 0:00:01\r\u001b[K     |█████████████████████████▍      | 1.8 MB 21.1 MB/s eta 0:00:01\r\u001b[K     |█████████████████████████▌      | 1.8 MB 21.1 MB/s eta 0:00:01\r\u001b[K     |█████████████████████████▋      | 1.8 MB 21.1 MB/s eta 0:00:01\r\u001b[K     |█████████████████████████▉      | 1.8 MB 21.1 MB/s eta 0:00:01\r\u001b[K     |██████████████████████████      | 1.8 MB 21.1 MB/s eta 0:00:01\r\u001b[K     |██████████████████████████      | 1.8 MB 21.1 MB/s eta 0:00:01\r\u001b[K     |██████████████████████████▎     | 1.9 MB 21.1 MB/s eta 0:00:01\r\u001b[K     |██████████████████████████▍     | 1.9 MB 21.1 MB/s eta 0:00:01\r\u001b[K     |██████████████████████████▌     | 1.9 MB 21.1 MB/s eta 0:00:01\r\u001b[K     |██████████████████████████▊     | 1.9 MB 21.1 MB/s eta 0:00:01\r\u001b[K     |██████████████████████████▉     | 1.9 MB 21.1 MB/s eta 0:00:01\r\u001b[K     |███████████████████████████     | 1.9 MB 21.1 MB/s eta 0:00:01\r\u001b[K     |███████████████████████████     | 1.9 MB 21.1 MB/s eta 0:00:01\r\u001b[K     |███████████████████████████▎    | 1.9 MB 21.1 MB/s eta 0:00:01\r\u001b[K     |███████████████████████████▍    | 1.9 MB 21.1 MB/s eta 0:00:01\r\u001b[K     |███████████████████████████▌    | 1.9 MB 21.1 MB/s eta 0:00:01\r\u001b[K     |███████████████████████████▊    | 2.0 MB 21.1 MB/s eta 0:00:01\r\u001b[K     |███████████████████████████▉    | 2.0 MB 21.1 MB/s eta 0:00:01\r\u001b[K     |████████████████████████████    | 2.0 MB 21.1 MB/s eta 0:00:01\r\u001b[K     |████████████████████████████▏   | 2.0 MB 21.1 MB/s eta 0:00:01\r\u001b[K     |████████████████████████████▎   | 2.0 MB 21.1 MB/s eta 0:00:01\r\u001b[K     |████████████████████████████▍   | 2.0 MB 21.1 MB/s eta 0:00:01\r\u001b[K     |████████████████████████████▋   | 2.0 MB 21.1 MB/s eta 0:00:01\r\u001b[K     |████████████████████████████▊   | 2.0 MB 21.1 MB/s eta 0:00:01\r\u001b[K     |████████████████████████████▉   | 2.0 MB 21.1 MB/s eta 0:00:01\r\u001b[K     |█████████████████████████████   | 2.0 MB 21.1 MB/s eta 0:00:01\r\u001b[K     |█████████████████████████████▏  | 2.1 MB 21.1 MB/s eta 0:00:01\r\u001b[K     |█████████████████████████████▎  | 2.1 MB 21.1 MB/s eta 0:00:01\r\u001b[K     |█████████████████████████████▍  | 2.1 MB 21.1 MB/s eta 0:00:01\r\u001b[K     |█████████████████████████████▋  | 2.1 MB 21.1 MB/s eta 0:00:01\r\u001b[K     |█████████████████████████████▊  | 2.1 MB 21.1 MB/s eta 0:00:01\r\u001b[K     |█████████████████████████████▉  | 2.1 MB 21.1 MB/s eta 0:00:01\r\u001b[K     |██████████████████████████████  | 2.1 MB 21.1 MB/s eta 0:00:01\r\u001b[K     |██████████████████████████████▏ | 2.1 MB 21.1 MB/s eta 0:00:01\r\u001b[K     |██████████████████████████████▎ | 2.1 MB 21.1 MB/s eta 0:00:01\r\u001b[K     |██████████████████████████████▍ | 2.2 MB 21.1 MB/s eta 0:00:01\r\u001b[K     |██████████████████████████████▋ | 2.2 MB 21.1 MB/s eta 0:00:01\r\u001b[K     |██████████████████████████████▊ | 2.2 MB 21.1 MB/s eta 0:00:01\r\u001b[K     |██████████████████████████████▉ | 2.2 MB 21.1 MB/s eta 0:00:01\r\u001b[K     |███████████████████████████████ | 2.2 MB 21.1 MB/s eta 0:00:01\r\u001b[K     |███████████████████████████████▏| 2.2 MB 21.1 MB/s eta 0:00:01\r\u001b[K     |███████████████████████████████▎| 2.2 MB 21.1 MB/s eta 0:00:01\r\u001b[K     |███████████████████████████████▌| 2.2 MB 21.1 MB/s eta 0:00:01\r\u001b[K     |███████████████████████████████▋| 2.2 MB 21.1 MB/s eta 0:00:01\r\u001b[K     |███████████████████████████████▊| 2.2 MB 21.1 MB/s eta 0:00:01\r\u001b[K     |████████████████████████████████| 2.3 MB 21.1 MB/s eta 0:00:01\r\u001b[K     |████████████████████████████████| 2.3 MB 21.1 MB/s \n",
            "\u001b[?25hRequirement already satisfied: keras>=2.0.0 in /usr/local/lib/python3.7/dist-packages (from mtcnn) (2.7.0)\n",
            "Requirement already satisfied: opencv-python>=4.1.0 in /usr/local/lib/python3.7/dist-packages (from mtcnn) (4.1.2.30)\n",
            "Requirement already satisfied: numpy>=1.14.5 in /usr/local/lib/python3.7/dist-packages (from opencv-python>=4.1.0->mtcnn) (1.19.5)\n",
            "Installing collected packages: mtcnn\n",
            "Successfully installed mtcnn-0.1.1\n",
            "Mounted at /content/drive\n"
          ]
        }
      ]
    },
    {
      "cell_type": "code",
      "metadata": {
        "id": "FaDywLhO8aEk"
      },
      "source": [
        "def createFolder(directory):\n",
        "    try:\n",
        "        if not os.path.exists(directory):\n",
        "            os.makedirs(directory)\n",
        "    except OSError:\n",
        "        print(\"Error : Creating directory. \" + directory)"
      ],
      "execution_count": null,
      "outputs": []
    },
    {
      "cell_type": "code",
      "metadata": {
        "id": "wwF9PQiMAQwM"
      },
      "source": [
        "FILTERING_THRES = 0.95\n",
        "\n",
        "DRIVE_IMAGE_PATH = \"/content/drive/MyDrive/IZONE_finder/stage_dataset/image\"\n",
        "DRIVE_ANNOTATION_PATH = \"/content/drive/MyDrive/IZONE_finder/stage_dataset/annotation\"\n",
        "\n",
        "LOCAL_IMAGE_PATH = \"/content/image\"\n",
        "LOCAL_ANNOTATION_PATH = \"/content/annotation\"\n",
        "\n",
        "MODEL_NAME = \"member_classification_model_B7\"\n",
        "MODEL_PATH = f\"/content/drive/MyDrive/IZONE_finder/IZ_ONE_Finder/weights/{MODEL_NAME}.h5\"\n",
        "\n",
        "ZIPFILE_PATH = os.path.join(DRIVE_IMAGE_PATH, \"stage_images.zip\")"
      ],
      "execution_count": null,
      "outputs": []
    },
    {
      "cell_type": "code",
      "metadata": {
        "id": "DiFecAqd8WIu"
      },
      "source": [
        "createFolder(LOCAL_IMAGE_PATH)\n",
        "createFolder(LOCAL_ANNOTATION_PATH)\n",
        "\n",
        "stage_image = zipfile.ZipFile(ZIPFILE_PATH)\n",
        "stage_image.extractall(LOCAL_IMAGE_PATH)\n",
        "stage_image.close()"
      ],
      "execution_count": null,
      "outputs": []
    },
    {
      "cell_type": "code",
      "metadata": {
        "id": "KsDRF5lrW2uk"
      },
      "source": [
        "classifier = tf.keras.models.load_model(MODEL_PATH)\n",
        "face_detector = MTCNN()"
      ],
      "execution_count": null,
      "outputs": []
    },
    {
      "cell_type": "code",
      "metadata": {
        "id": "SZ2U9CkKuufj",
        "colab": {
          "base_uri": "https://localhost:8080/",
          "height": 142
        },
        "outputId": "400e0966-9c5a-4a0f-e9b8-4914eea6f6ea"
      },
      "source": [
        "for image_name in os.listdir(LOCAL_IMAGE_PATH):\n",
        "  image_path = os.path.join(LOCAL_IMAGE_PATH, image_name)\n",
        "  image_np = cv2.imread(image_path)\n",
        "\n",
        "  img_height, img_width = image_np.shape\n",
        "\n",
        "  detected_faces = face_detector.detect_faces(image_np)\n",
        "\n",
        "  result_list = list()\n",
        "  \n",
        "  if not detected_faces:\n",
        "    !rm image_path\n",
        "    continue\n",
        "\n",
        "  for face_info in detected_faces:\n",
        "    x1, y1, width, height = face_info[\"box\"]\n",
        "    x2, y2 = x1 + width, y1 + height\n",
        "\n",
        "    face = img[y1:y2, x1:x2]\n",
        "    image = Image.fromarray(face)\n",
        "    image = image.resize((224, 224))\n",
        "    face_array = np.asarray(image)\n",
        "\n",
        "    member = classifier.predict([face_array])\n",
        "    member_index = member.argmax()\n",
        "\n",
        "    if member.max() > FILTERING_THRES:\n",
        "      result = [member_index, x1, y1, x2, y2] # w, h norm?\n",
        "      # result = [member_index, x1/img_width, y1/img_height, x2/img_width, y2/img_height]\n",
        "      # result = [member_index, x1, y1, width, height]\n",
        "      result_list.append(result)\n",
        "\n",
        "  with open(f\"{LOCAL_ANNOTATION_PATH}/{image_name.split('.')[0]}.pkl\", \"wb\") as f:\n",
        "    pickle.dump(np.array(result_list), f)"
      ],
      "execution_count": null,
      "outputs": [
        {
          "output_type": "error",
          "ename": "SyntaxError",
          "evalue": "ignored",
          "traceback": [
            "\u001b[0;36m  File \u001b[0;32m\"<ipython-input-1-d06f10dad146>\"\u001b[0;36m, line \u001b[0;32m30\u001b[0m\n\u001b[0;31m    with open(f\"{LOCAL_ANNOTATION_PATH}/{image_name.split(\".\")[0]}.pkl\", \"wb\") as f:\u001b[0m\n\u001b[0m                                                                      ^\u001b[0m\n\u001b[0;31mSyntaxError\u001b[0m\u001b[0;31m:\u001b[0m invalid syntax\n"
          ]
        }
      ]
    },
    {
      "cell_type": "code",
      "metadata": {
        "id": "WJ0iDax-9fr4"
      },
      "source": [
        "with zipfile.ZipFile(f'/content/stage_images.zip', 'w', compression=zipfile.ZIP_DEFLATED) as new_zip:\n",
        "  image_name_list = os.listdir(LOCAL_IMAGE_PATH)\n",
        "    \n",
        "  for image_name in image_name_list:\n",
        "    image_path = os.path.join(LOCAL_IMAGE_PATH, image_name)\n",
        "    new_zip.write(image_path, arcname=image_name)\n",
        "\n",
        "  train_split = len(image_name_list) * 0.75\n",
        "  test_split = train_split + len(image_name_list) * 0.15\n",
        "\n",
        "  # write train data\n",
        "  with open(\"train.txt\", \"w\") as f:\n",
        "    for image_name in image_name_list[:train_split]:\n",
        "      writing_image_path = os.path.join(LOCAL_IMAGE_PATH, image_name)\n",
        "      f.write(writing_image_path)\n",
        "\n",
        "  # write test data\n",
        "  with open(\"test.txt\", \"w\") as f:\n",
        "    for image_name in image_name_list[train_split:test_split]:\n",
        "      writing_image_path = os.path.join(LOCAL_IMAGE_PATH, image_name)\n",
        "      f.write(writing_image_path)\n",
        "    \n",
        "  # write validation data\n",
        "  with open(\"validation.txt\", \"w\") as f:\n",
        "    for image_name in image_name_list[test_split:]:\n",
        "      writing_image_path = os.path.join(LOCAL_IMAGE_PATH, image_name)\n",
        "      f.write(writing_image_path)\n",
        "\n",
        "with zipfile.ZipFile(f'/content/stage_annotations.zip', 'w', compression=zipfile.ZIP_DEFLATED) as new_zip:\n",
        "  annotation_name_list = os.listdir(LOCAL_ANNOTATION_PATH)\n",
        "  for annotation_name in annotation_name_list:\n",
        "    anno_path = os.path.join(LOCAL_ANNOTATION_PATH, annotation_name)\n",
        "    new_zip.write(anno_path, arcname=annotation_name)\n",
        "\n",
        "!cp /content/stage_images.zip {DRIVE_IMAGE_PATH}\n",
        "!cp /content/stage_annotations.zip {DRIVE_ANNOTATION_PATH}\n",
        "\n",
        "!cp /content/train.txt {DRIVE_TXT_PATH}\n",
        "!cp /content/test.txt {DRIVE_TXT_PATH}\n",
        "!cp /content/validation.txt {DRIVE_TXT_PATH}\n",
        "\n",
        "print(\"All files successfully copied to drive\")"
      ],
      "execution_count": null,
      "outputs": []
    },
    {
      "cell_type": "code",
      "metadata": {
        "id": "v3mcg_RFp8Mc"
      },
      "source": [
        ""
      ],
      "execution_count": null,
      "outputs": []
    }
  ]
}