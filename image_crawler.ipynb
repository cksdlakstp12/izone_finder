{
 "cells": [
  {
   "cell_type": "markdown",
   "id": "46e54432",
   "metadata": {},
   "source": [
    "https://www.youtube.com/watch?v=1b7pXC1-IbE\n",
    "\n",
    "14:49"
   ]
  },
  {
   "cell_type": "code",
   "execution_count": 6,
   "id": "5d48356a",
   "metadata": {},
   "outputs": [
    {
     "name": "stdout",
     "output_type": "stream",
     "text": [
      "Requirement already satisfied: selenium in c:\\users\\w24880\\anaconda3\\lib\\site-packages (from -r requirment.txt (line 1)) (3.141.0)\n",
      "Requirement already satisfied: urllib3 in c:\\users\\w24880\\anaconda3\\lib\\site-packages (from -r requirment.txt (line 2)) (1.26.4)\n",
      "Requirement already satisfied: opencv-python in c:\\users\\w24880\\anaconda3\\lib\\site-packages (from -r requirment.txt (line 3)) (4.5.3.56)\n",
      "Requirement already satisfied: numpy in c:\\users\\w24880\\anaconda3\\lib\\site-packages (from -r requirment.txt (line 4)) (1.20.1)\n",
      "Requirement already satisfied: pandas in c:\\users\\w24880\\anaconda3\\lib\\site-packages (from -r requirment.txt (line 5)) (1.2.4)\n",
      "Requirement already satisfied: future in c:\\users\\w24880\\anaconda3\\lib\\site-packages (from -r requirment.txt (line 6)) (0.18.2)\n",
      "Requirement already satisfied: torch in c:\\users\\w24880\\anaconda3\\lib\\site-packages (from -r requirment.txt (line 7)) (1.9.0)\n",
      "Requirement already satisfied: torchvision in c:\\users\\w24880\\anaconda3\\lib\\site-packages (from -r requirment.txt (line 8)) (0.10.0)\n",
      "Requirement already satisfied: python-dateutil>=2.7.3 in c:\\users\\w24880\\anaconda3\\lib\\site-packages (from pandas->-r requirment.txt (line 5)) (2.8.1)\n",
      "Requirement already satisfied: pytz>=2017.3 in c:\\users\\w24880\\anaconda3\\lib\\site-packages (from pandas->-r requirment.txt (line 5)) (2021.1)\n",
      "Requirement already satisfied: six>=1.5 in c:\\users\\w24880\\appdata\\roaming\\python\\python38\\site-packages (from python-dateutil>=2.7.3->pandas->-r requirment.txt (line 5)) (1.15.0)\n",
      "Requirement already satisfied: typing-extensions in c:\\users\\w24880\\anaconda3\\lib\\site-packages (from torch->-r requirment.txt (line 7)) (3.7.4.3)\n",
      "Requirement already satisfied: pillow>=5.3.0 in c:\\users\\w24880\\anaconda3\\lib\\site-packages (from torchvision->-r requirment.txt (line 8)) (8.2.0)\n"
     ]
    }
   ],
   "source": [
    "!pip install -r requirment.txt"
   ]
  },
  {
   "cell_type": "code",
   "execution_count": 2,
   "id": "0028c74a",
   "metadata": {},
   "outputs": [],
   "source": [
    "import cv2\n",
    "import numpy as np\n",
    "from selenium import webdriver\n",
    "from selenium.webdriver.common.keys import Keys\n",
    "import time\n",
    "import os\n",
    "import urllib.request"
   ]
  },
  {
   "cell_type": "code",
   "execution_count": 3,
   "id": "9393d5e6",
   "metadata": {},
   "outputs": [],
   "source": [
    "IZ_ONE = [\"최예나\", \"조유리\", \"김채원\", \"안유진\", \"김민주\", \"장원영\",\n",
    "           \"나코\", \"히토미\", \"사쿠라\", \"이채연\", \"강혜원\", \"권은비\"]\n",
    "group_name = \"아이즈원\""
   ]
  },
  {
   "cell_type": "code",
   "execution_count": 10,
   "id": "af7fc5e4",
   "metadata": {},
   "outputs": [],
   "source": [
    "driver = webdriver.Chrome()\n",
    "\n",
    "for member in IZ_ONE:\n",
    "    driver.get(\"https://www.google.co.kr/imghp?hl=ko&tab=ri&ogbl\")\n",
    "    elem = driver.find_element_by_name(\"q\")\n",
    "    elem.send_keys(f\"{group_name} {member}\")\n",
    "    elem.send_keys(Keys.RETURN)\n",
    "    \n",
    "    SCROLL_PAUSE_TIME = 1\n",
    "    last_height = driver.execute_script(\"return document.body.scrollHeight\")\n",
    "    \n",
    "    while 1:\n",
    "        driver.execute_script(\"window.scrollTo(0, document.body.scrollHeight);\")\n",
    "        time.sleep(SCROLL_PAUSE_TIME)\n",
    "        new_height = driver.execute_script(\"return document.body.scrollHeight\")\n",
    "        if new_height == last_height: \n",
    "            try:\n",
    "                driver.find_element_by_css_selector(\".mye4qd\").click()\n",
    "            except:\n",
    "                break\n",
    "        last_height = new_height\n",
    "    \n",
    "    images = driver.find_elements_by_css_selector(\".rg_i.Q4LuWd\")\n",
    "    for tmp_name, img in enumerate(images):\n",
    "        try:\n",
    "            img.click()\n",
    "            time.sleep(1)\n",
    "            imgUrl = driver.find_element_by_xpath(\"/html/body/div[2]/c-wiz/div[3]/div[2]/div[3]/div/div/div[3]/div[2]/c-wiz/div/div[1]/div[1]/div[2]/div[1]/a/img\").get_attribute(\"src\")\n",
    "            urllib.request.urlretrieve(imgUrl, f\"./{member}/{tmp_name}.jpg\")\n",
    "        except:\n",
    "            pass\n",
    "        \n",
    "driver.close()"
   ]
  },
  {
   "cell_type": "code",
   "execution_count": null,
   "id": "ac460f05",
   "metadata": {},
   "outputs": [],
   "source": []
  }
 ],
 "metadata": {
  "kernelspec": {
   "display_name": "Python 3",
   "language": "python",
   "name": "python3"
  },
  "language_info": {
   "codemirror_mode": {
    "name": "ipython",
    "version": 3
   },
   "file_extension": ".py",
   "mimetype": "text/x-python",
   "name": "python",
   "nbconvert_exporter": "python",
   "pygments_lexer": "ipython3",
   "version": "3.8.8"
  }
 },
 "nbformat": 4,
 "nbformat_minor": 5
}
