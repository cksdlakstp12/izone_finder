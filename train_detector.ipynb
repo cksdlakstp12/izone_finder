{
  "nbformat": 4,
  "nbformat_minor": 0,
  "metadata": {
    "colab": {
      "name": "train_detector.ipynb",
      "provenance": [],
      "collapsed_sections": [],
      "authorship_tag": "ABX9TyNoeXKNiQliSUITWKU4+K6S",
      "include_colab_link": true
    },
    "kernelspec": {
      "name": "python3",
      "display_name": "Python 3"
    },
    "language_info": {
      "name": "python"
    }
  },
  "cells": [
    {
      "cell_type": "markdown",
      "metadata": {
        "id": "view-in-github",
        "colab_type": "text"
      },
      "source": [
        "<a href=\"https://colab.research.google.com/github/cksdlakstp12/izone_finder/blob/main/train_detector.ipynb\" target=\"_parent\"><img src=\"https://colab.research.google.com/assets/colab-badge.svg\" alt=\"Open In Colab\"/></a>"
      ]
    },
    {
      "cell_type": "markdown",
      "source": [
        "# this file for yolo model train"
      ],
      "metadata": {
        "id": "Jw06yV4ywuKx"
      }
    },
    {
      "cell_type": "code",
      "metadata": {
        "id": "yBFE1krhhKus",
        "colab": {
          "base_uri": "https://localhost:8080/"
        },
        "outputId": "29189f73-3dc1-4200-f7a5-3fc0863c8fd8"
      },
      "source": [
        "import zipfile\n",
        "import os\n",
        "\n",
        "from google.colab import drive\n",
        "drive.mount(\"/content/drive\")"
      ],
      "execution_count": null,
      "outputs": [
        {
          "output_type": "stream",
          "name": "stdout",
          "text": [
            "Collecting mtcnn\n",
            "  Downloading mtcnn-0.1.1-py3-none-any.whl (2.3 MB)\n",
            "\u001b[?25l\r\u001b[K     |▏                               | 10 kB 22.0 MB/s eta 0:00:01\r\u001b[K     |▎                               | 20 kB 24.3 MB/s eta 0:00:01\r\u001b[K     |▍                               | 30 kB 28.8 MB/s eta 0:00:01\r\u001b[K     |▋                               | 40 kB 31.5 MB/s eta 0:00:01\r\u001b[K     |▊                               | 51 kB 32.6 MB/s eta 0:00:01\r\u001b[K     |▉                               | 61 kB 33.8 MB/s eta 0:00:01\r\u001b[K     |█                               | 71 kB 33.9 MB/s eta 0:00:01\r\u001b[K     |█▏                              | 81 kB 34.7 MB/s eta 0:00:01\r\u001b[K     |█▎                              | 92 kB 34.2 MB/s eta 0:00:01\r\u001b[K     |█▌                              | 102 kB 35.9 MB/s eta 0:00:01\r\u001b[K     |█▋                              | 112 kB 35.9 MB/s eta 0:00:01\r\u001b[K     |█▊                              | 122 kB 35.9 MB/s eta 0:00:01\r\u001b[K     |█▉                              | 133 kB 35.9 MB/s eta 0:00:01\r\u001b[K     |██                              | 143 kB 35.9 MB/s eta 0:00:01\r\u001b[K     |██▏                             | 153 kB 35.9 MB/s eta 0:00:01\r\u001b[K     |██▎                             | 163 kB 35.9 MB/s eta 0:00:01\r\u001b[K     |██▌                             | 174 kB 35.9 MB/s eta 0:00:01\r\u001b[K     |██▋                             | 184 kB 35.9 MB/s eta 0:00:01\r\u001b[K     |██▊                             | 194 kB 35.9 MB/s eta 0:00:01\r\u001b[K     |███                             | 204 kB 35.9 MB/s eta 0:00:01\r\u001b[K     |███                             | 215 kB 35.9 MB/s eta 0:00:01\r\u001b[K     |███▏                            | 225 kB 35.9 MB/s eta 0:00:01\r\u001b[K     |███▍                            | 235 kB 35.9 MB/s eta 0:00:01\r\u001b[K     |███▌                            | 245 kB 35.9 MB/s eta 0:00:01\r\u001b[K     |███▋                            | 256 kB 35.9 MB/s eta 0:00:01\r\u001b[K     |███▊                            | 266 kB 35.9 MB/s eta 0:00:01\r\u001b[K     |████                            | 276 kB 35.9 MB/s eta 0:00:01\r\u001b[K     |████                            | 286 kB 35.9 MB/s eta 0:00:01\r\u001b[K     |████▏                           | 296 kB 35.9 MB/s eta 0:00:01\r\u001b[K     |████▍                           | 307 kB 35.9 MB/s eta 0:00:01\r\u001b[K     |████▌                           | 317 kB 35.9 MB/s eta 0:00:01\r\u001b[K     |████▋                           | 327 kB 35.9 MB/s eta 0:00:01\r\u001b[K     |████▉                           | 337 kB 35.9 MB/s eta 0:00:01\r\u001b[K     |█████                           | 348 kB 35.9 MB/s eta 0:00:01\r\u001b[K     |█████                           | 358 kB 35.9 MB/s eta 0:00:01\r\u001b[K     |█████▏                          | 368 kB 35.9 MB/s eta 0:00:01\r\u001b[K     |█████▍                          | 378 kB 35.9 MB/s eta 0:00:01\r\u001b[K     |█████▌                          | 389 kB 35.9 MB/s eta 0:00:01\r\u001b[K     |█████▋                          | 399 kB 35.9 MB/s eta 0:00:01\r\u001b[K     |█████▉                          | 409 kB 35.9 MB/s eta 0:00:01\r\u001b[K     |██████                          | 419 kB 35.9 MB/s eta 0:00:01\r\u001b[K     |██████                          | 430 kB 35.9 MB/s eta 0:00:01\r\u001b[K     |██████▎                         | 440 kB 35.9 MB/s eta 0:00:01\r\u001b[K     |██████▍                         | 450 kB 35.9 MB/s eta 0:00:01\r\u001b[K     |██████▌                         | 460 kB 35.9 MB/s eta 0:00:01\r\u001b[K     |██████▊                         | 471 kB 35.9 MB/s eta 0:00:01\r\u001b[K     |██████▉                         | 481 kB 35.9 MB/s eta 0:00:01\r\u001b[K     |███████                         | 491 kB 35.9 MB/s eta 0:00:01\r\u001b[K     |███████                         | 501 kB 35.9 MB/s eta 0:00:01\r\u001b[K     |███████▎                        | 512 kB 35.9 MB/s eta 0:00:01\r\u001b[K     |███████▍                        | 522 kB 35.9 MB/s eta 0:00:01\r\u001b[K     |███████▌                        | 532 kB 35.9 MB/s eta 0:00:01\r\u001b[K     |███████▊                        | 542 kB 35.9 MB/s eta 0:00:01\r\u001b[K     |███████▉                        | 552 kB 35.9 MB/s eta 0:00:01\r\u001b[K     |████████                        | 563 kB 35.9 MB/s eta 0:00:01\r\u001b[K     |████████▏                       | 573 kB 35.9 MB/s eta 0:00:01\r\u001b[K     |████████▎                       | 583 kB 35.9 MB/s eta 0:00:01\r\u001b[K     |████████▍                       | 593 kB 35.9 MB/s eta 0:00:01\r\u001b[K     |████████▌                       | 604 kB 35.9 MB/s eta 0:00:01\r\u001b[K     |████████▊                       | 614 kB 35.9 MB/s eta 0:00:01\r\u001b[K     |████████▉                       | 624 kB 35.9 MB/s eta 0:00:01\r\u001b[K     |█████████                       | 634 kB 35.9 MB/s eta 0:00:01\r\u001b[K     |█████████▏                      | 645 kB 35.9 MB/s eta 0:00:01\r\u001b[K     |█████████▎                      | 655 kB 35.9 MB/s eta 0:00:01\r\u001b[K     |█████████▍                      | 665 kB 35.9 MB/s eta 0:00:01\r\u001b[K     |█████████▋                      | 675 kB 35.9 MB/s eta 0:00:01\r\u001b[K     |█████████▊                      | 686 kB 35.9 MB/s eta 0:00:01\r\u001b[K     |█████████▉                      | 696 kB 35.9 MB/s eta 0:00:01\r\u001b[K     |██████████                      | 706 kB 35.9 MB/s eta 0:00:01\r\u001b[K     |██████████▏                     | 716 kB 35.9 MB/s eta 0:00:01\r\u001b[K     |██████████▎                     | 727 kB 35.9 MB/s eta 0:00:01\r\u001b[K     |██████████▍                     | 737 kB 35.9 MB/s eta 0:00:01\r\u001b[K     |██████████▋                     | 747 kB 35.9 MB/s eta 0:00:01\r\u001b[K     |██████████▊                     | 757 kB 35.9 MB/s eta 0:00:01\r\u001b[K     |██████████▉                     | 768 kB 35.9 MB/s eta 0:00:01\r\u001b[K     |███████████                     | 778 kB 35.9 MB/s eta 0:00:01\r\u001b[K     |███████████▏                    | 788 kB 35.9 MB/s eta 0:00:01\r\u001b[K     |███████████▎                    | 798 kB 35.9 MB/s eta 0:00:01\r\u001b[K     |███████████▌                    | 808 kB 35.9 MB/s eta 0:00:01\r\u001b[K     |███████████▋                    | 819 kB 35.9 MB/s eta 0:00:01\r\u001b[K     |███████████▊                    | 829 kB 35.9 MB/s eta 0:00:01\r\u001b[K     |███████████▉                    | 839 kB 35.9 MB/s eta 0:00:01\r\u001b[K     |████████████                    | 849 kB 35.9 MB/s eta 0:00:01\r\u001b[K     |████████████▏                   | 860 kB 35.9 MB/s eta 0:00:01\r\u001b[K     |████████████▎                   | 870 kB 35.9 MB/s eta 0:00:01\r\u001b[K     |████████████▌                   | 880 kB 35.9 MB/s eta 0:00:01\r\u001b[K     |████████████▋                   | 890 kB 35.9 MB/s eta 0:00:01\r\u001b[K     |████████████▊                   | 901 kB 35.9 MB/s eta 0:00:01\r\u001b[K     |█████████████                   | 911 kB 35.9 MB/s eta 0:00:01\r\u001b[K     |█████████████                   | 921 kB 35.9 MB/s eta 0:00:01\r\u001b[K     |█████████████▏                  | 931 kB 35.9 MB/s eta 0:00:01\r\u001b[K     |█████████████▍                  | 942 kB 35.9 MB/s eta 0:00:01\r\u001b[K     |█████████████▌                  | 952 kB 35.9 MB/s eta 0:00:01\r\u001b[K     |█████████████▋                  | 962 kB 35.9 MB/s eta 0:00:01\r\u001b[K     |█████████████▊                  | 972 kB 35.9 MB/s eta 0:00:01\r\u001b[K     |██████████████                  | 983 kB 35.9 MB/s eta 0:00:01\r\u001b[K     |██████████████                  | 993 kB 35.9 MB/s eta 0:00:01\r\u001b[K     |██████████████▏                 | 1.0 MB 35.9 MB/s eta 0:00:01\r\u001b[K     |██████████████▍                 | 1.0 MB 35.9 MB/s eta 0:00:01\r\u001b[K     |██████████████▌                 | 1.0 MB 35.9 MB/s eta 0:00:01\r\u001b[K     |██████████████▋                 | 1.0 MB 35.9 MB/s eta 0:00:01\r\u001b[K     |██████████████▉                 | 1.0 MB 35.9 MB/s eta 0:00:01\r\u001b[K     |███████████████                 | 1.1 MB 35.9 MB/s eta 0:00:01\r\u001b[K     |███████████████                 | 1.1 MB 35.9 MB/s eta 0:00:01\r\u001b[K     |███████████████▏                | 1.1 MB 35.9 MB/s eta 0:00:01\r\u001b[K     |███████████████▍                | 1.1 MB 35.9 MB/s eta 0:00:01\r\u001b[K     |███████████████▌                | 1.1 MB 35.9 MB/s eta 0:00:01\r\u001b[K     |███████████████▋                | 1.1 MB 35.9 MB/s eta 0:00:01\r\u001b[K     |███████████████▉                | 1.1 MB 35.9 MB/s eta 0:00:01\r\u001b[K     |████████████████                | 1.1 MB 35.9 MB/s eta 0:00:01\r\u001b[K     |████████████████                | 1.1 MB 35.9 MB/s eta 0:00:01\r\u001b[K     |████████████████▎               | 1.1 MB 35.9 MB/s eta 0:00:01\r\u001b[K     |████████████████▍               | 1.2 MB 35.9 MB/s eta 0:00:01\r\u001b[K     |████████████████▌               | 1.2 MB 35.9 MB/s eta 0:00:01\r\u001b[K     |████████████████▊               | 1.2 MB 35.9 MB/s eta 0:00:01\r\u001b[K     |████████████████▉               | 1.2 MB 35.9 MB/s eta 0:00:01\r\u001b[K     |█████████████████               | 1.2 MB 35.9 MB/s eta 0:00:01\r\u001b[K     |█████████████████               | 1.2 MB 35.9 MB/s eta 0:00:01\r\u001b[K     |█████████████████▎              | 1.2 MB 35.9 MB/s eta 0:00:01\r\u001b[K     |█████████████████▍              | 1.2 MB 35.9 MB/s eta 0:00:01\r\u001b[K     |█████████████████▌              | 1.2 MB 35.9 MB/s eta 0:00:01\r\u001b[K     |█████████████████▊              | 1.2 MB 35.9 MB/s eta 0:00:01\r\u001b[K     |█████████████████▉              | 1.3 MB 35.9 MB/s eta 0:00:01\r\u001b[K     |██████████████████              | 1.3 MB 35.9 MB/s eta 0:00:01\r\u001b[K     |██████████████████▏             | 1.3 MB 35.9 MB/s eta 0:00:01\r\u001b[K     |██████████████████▎             | 1.3 MB 35.9 MB/s eta 0:00:01\r\u001b[K     |██████████████████▍             | 1.3 MB 35.9 MB/s eta 0:00:01\r\u001b[K     |██████████████████▌             | 1.3 MB 35.9 MB/s eta 0:00:01\r\u001b[K     |██████████████████▊             | 1.3 MB 35.9 MB/s eta 0:00:01\r\u001b[K     |██████████████████▉             | 1.3 MB 35.9 MB/s eta 0:00:01\r\u001b[K     |███████████████████             | 1.3 MB 35.9 MB/s eta 0:00:01\r\u001b[K     |███████████████████▏            | 1.4 MB 35.9 MB/s eta 0:00:01\r\u001b[K     |███████████████████▎            | 1.4 MB 35.9 MB/s eta 0:00:01\r\u001b[K     |███████████████████▍            | 1.4 MB 35.9 MB/s eta 0:00:01\r\u001b[K     |███████████████████▋            | 1.4 MB 35.9 MB/s eta 0:00:01\r\u001b[K     |███████████████████▊            | 1.4 MB 35.9 MB/s eta 0:00:01\r\u001b[K     |███████████████████▉            | 1.4 MB 35.9 MB/s eta 0:00:01\r\u001b[K     |████████████████████            | 1.4 MB 35.9 MB/s eta 0:00:01\r\u001b[K     |████████████████████▏           | 1.4 MB 35.9 MB/s eta 0:00:01\r\u001b[K     |████████████████████▎           | 1.4 MB 35.9 MB/s eta 0:00:01\r\u001b[K     |████████████████████▍           | 1.4 MB 35.9 MB/s eta 0:00:01\r\u001b[K     |████████████████████▋           | 1.5 MB 35.9 MB/s eta 0:00:01\r\u001b[K     |████████████████████▊           | 1.5 MB 35.9 MB/s eta 0:00:01\r\u001b[K     |████████████████████▉           | 1.5 MB 35.9 MB/s eta 0:00:01\r\u001b[K     |█████████████████████           | 1.5 MB 35.9 MB/s eta 0:00:01\r\u001b[K     |█████████████████████▏          | 1.5 MB 35.9 MB/s eta 0:00:01\r\u001b[K     |█████████████████████▎          | 1.5 MB 35.9 MB/s eta 0:00:01\r\u001b[K     |█████████████████████▌          | 1.5 MB 35.9 MB/s eta 0:00:01\r\u001b[K     |█████████████████████▋          | 1.5 MB 35.9 MB/s eta 0:00:01\r\u001b[K     |█████████████████████▊          | 1.5 MB 35.9 MB/s eta 0:00:01\r\u001b[K     |██████████████████████          | 1.5 MB 35.9 MB/s eta 0:00:01\r\u001b[K     |██████████████████████          | 1.6 MB 35.9 MB/s eta 0:00:01\r\u001b[K     |██████████████████████▏         | 1.6 MB 35.9 MB/s eta 0:00:01\r\u001b[K     |██████████████████████▎         | 1.6 MB 35.9 MB/s eta 0:00:01\r\u001b[K     |██████████████████████▌         | 1.6 MB 35.9 MB/s eta 0:00:01\r\u001b[K     |██████████████████████▋         | 1.6 MB 35.9 MB/s eta 0:00:01\r\u001b[K     |██████████████████████▊         | 1.6 MB 35.9 MB/s eta 0:00:01\r\u001b[K     |███████████████████████         | 1.6 MB 35.9 MB/s eta 0:00:01\r\u001b[K     |███████████████████████         | 1.6 MB 35.9 MB/s eta 0:00:01\r\u001b[K     |███████████████████████▏        | 1.6 MB 35.9 MB/s eta 0:00:01\r\u001b[K     |███████████████████████▍        | 1.6 MB 35.9 MB/s eta 0:00:01\r\u001b[K     |███████████████████████▌        | 1.7 MB 35.9 MB/s eta 0:00:01\r\u001b[K     |███████████████████████▋        | 1.7 MB 35.9 MB/s eta 0:00:01\r\u001b[K     |███████████████████████▊        | 1.7 MB 35.9 MB/s eta 0:00:01\r\u001b[K     |████████████████████████        | 1.7 MB 35.9 MB/s eta 0:00:01\r\u001b[K     |████████████████████████        | 1.7 MB 35.9 MB/s eta 0:00:01\r\u001b[K     |████████████████████████▏       | 1.7 MB 35.9 MB/s eta 0:00:01\r\u001b[K     |████████████████████████▍       | 1.7 MB 35.9 MB/s eta 0:00:01\r\u001b[K     |████████████████████████▌       | 1.7 MB 35.9 MB/s eta 0:00:01\r\u001b[K     |████████████████████████▋       | 1.7 MB 35.9 MB/s eta 0:00:01\r\u001b[K     |████████████████████████▉       | 1.8 MB 35.9 MB/s eta 0:00:01\r\u001b[K     |█████████████████████████       | 1.8 MB 35.9 MB/s eta 0:00:01\r\u001b[K     |█████████████████████████       | 1.8 MB 35.9 MB/s eta 0:00:01\r\u001b[K     |█████████████████████████▎      | 1.8 MB 35.9 MB/s eta 0:00:01\r\u001b[K     |█████████████████████████▍      | 1.8 MB 35.9 MB/s eta 0:00:01\r\u001b[K     |█████████████████████████▌      | 1.8 MB 35.9 MB/s eta 0:00:01\r\u001b[K     |█████████████████████████▋      | 1.8 MB 35.9 MB/s eta 0:00:01\r\u001b[K     |█████████████████████████▉      | 1.8 MB 35.9 MB/s eta 0:00:01\r\u001b[K     |██████████████████████████      | 1.8 MB 35.9 MB/s eta 0:00:01\r\u001b[K     |██████████████████████████      | 1.8 MB 35.9 MB/s eta 0:00:01\r\u001b[K     |██████████████████████████▎     | 1.9 MB 35.9 MB/s eta 0:00:01\r\u001b[K     |██████████████████████████▍     | 1.9 MB 35.9 MB/s eta 0:00:01\r\u001b[K     |██████████████████████████▌     | 1.9 MB 35.9 MB/s eta 0:00:01\r\u001b[K     |██████████████████████████▊     | 1.9 MB 35.9 MB/s eta 0:00:01\r\u001b[K     |██████████████████████████▉     | 1.9 MB 35.9 MB/s eta 0:00:01\r\u001b[K     |███████████████████████████     | 1.9 MB 35.9 MB/s eta 0:00:01\r\u001b[K     |███████████████████████████     | 1.9 MB 35.9 MB/s eta 0:00:01\r\u001b[K     |███████████████████████████▎    | 1.9 MB 35.9 MB/s eta 0:00:01\r\u001b[K     |███████████████████████████▍    | 1.9 MB 35.9 MB/s eta 0:00:01\r\u001b[K     |███████████████████████████▌    | 1.9 MB 35.9 MB/s eta 0:00:01\r\u001b[K     |███████████████████████████▊    | 2.0 MB 35.9 MB/s eta 0:00:01\r\u001b[K     |███████████████████████████▉    | 2.0 MB 35.9 MB/s eta 0:00:01\r\u001b[K     |████████████████████████████    | 2.0 MB 35.9 MB/s eta 0:00:01\r\u001b[K     |████████████████████████████▏   | 2.0 MB 35.9 MB/s eta 0:00:01\r\u001b[K     |████████████████████████████▎   | 2.0 MB 35.9 MB/s eta 0:00:01\r\u001b[K     |████████████████████████████▍   | 2.0 MB 35.9 MB/s eta 0:00:01\r\u001b[K     |████████████████████████████▋   | 2.0 MB 35.9 MB/s eta 0:00:01\r\u001b[K     |████████████████████████████▊   | 2.0 MB 35.9 MB/s eta 0:00:01\r\u001b[K     |████████████████████████████▉   | 2.0 MB 35.9 MB/s eta 0:00:01\r\u001b[K     |█████████████████████████████   | 2.0 MB 35.9 MB/s eta 0:00:01\r\u001b[K     |█████████████████████████████▏  | 2.1 MB 35.9 MB/s eta 0:00:01\r\u001b[K     |█████████████████████████████▎  | 2.1 MB 35.9 MB/s eta 0:00:01\r\u001b[K     |█████████████████████████████▍  | 2.1 MB 35.9 MB/s eta 0:00:01\r\u001b[K     |█████████████████████████████▋  | 2.1 MB 35.9 MB/s eta 0:00:01\r\u001b[K     |█████████████████████████████▊  | 2.1 MB 35.9 MB/s eta 0:00:01\r\u001b[K     |█████████████████████████████▉  | 2.1 MB 35.9 MB/s eta 0:00:01\r\u001b[K     |██████████████████████████████  | 2.1 MB 35.9 MB/s eta 0:00:01\r\u001b[K     |██████████████████████████████▏ | 2.1 MB 35.9 MB/s eta 0:00:01\r\u001b[K     |██████████████████████████████▎ | 2.1 MB 35.9 MB/s eta 0:00:01\r\u001b[K     |██████████████████████████████▍ | 2.2 MB 35.9 MB/s eta 0:00:01\r\u001b[K     |██████████████████████████████▋ | 2.2 MB 35.9 MB/s eta 0:00:01\r\u001b[K     |██████████████████████████████▊ | 2.2 MB 35.9 MB/s eta 0:00:01\r\u001b[K     |██████████████████████████████▉ | 2.2 MB 35.9 MB/s eta 0:00:01\r\u001b[K     |███████████████████████████████ | 2.2 MB 35.9 MB/s eta 0:00:01\r\u001b[K     |███████████████████████████████▏| 2.2 MB 35.9 MB/s eta 0:00:01\r\u001b[K     |███████████████████████████████▎| 2.2 MB 35.9 MB/s eta 0:00:01\r\u001b[K     |███████████████████████████████▌| 2.2 MB 35.9 MB/s eta 0:00:01\r\u001b[K     |███████████████████████████████▋| 2.2 MB 35.9 MB/s eta 0:00:01\r\u001b[K     |███████████████████████████████▊| 2.2 MB 35.9 MB/s eta 0:00:01\r\u001b[K     |████████████████████████████████| 2.3 MB 35.9 MB/s eta 0:00:01\r\u001b[K     |████████████████████████████████| 2.3 MB 35.9 MB/s \n",
            "\u001b[?25hRequirement already satisfied: opencv-python>=4.1.0 in /usr/local/lib/python3.7/dist-packages (from mtcnn) (4.1.2.30)\n",
            "Requirement already satisfied: keras>=2.0.0 in /usr/local/lib/python3.7/dist-packages (from mtcnn) (2.7.0)\n",
            "Requirement already satisfied: numpy>=1.14.5 in /usr/local/lib/python3.7/dist-packages (from opencv-python>=4.1.0->mtcnn) (1.19.5)\n",
            "Installing collected packages: mtcnn\n",
            "Successfully installed mtcnn-0.1.1\n",
            "Mounted at /content/drive\n"
          ]
        }
      ]
    },
    {
      "cell_type": "code",
      "metadata": {
        "id": "9GkJhDwJcd1P"
      },
      "source": [
        "!git clone https://github.com/WongKinYiu/yolor.git\n",
        "!pip install -r /content/yolor/requirements.txt"
      ],
      "execution_count": null,
      "outputs": []
    },
    {
      "cell_type": "code",
      "metadata": {
        "id": "Xo2tkrO4hKrF"
      },
      "source": [
        "def createFolder(directory):\n",
        "    try:\n",
        "        if not os.path.exists(directory):\n",
        "            os.makedirs(directory)\n",
        "    except OSError:\n",
        "        print(\"Error : Creating directory. \" + directory)"
      ],
      "execution_count": null,
      "outputs": []
    },
    {
      "cell_type": "code",
      "metadata": {
        "id": "JHEtB-M0ZGnU"
      },
      "source": [
        "DRIVE_IMAGE_PATH = \"/content/drive/MyDrive/IZONE_finder/stage_dataset/image\"\n",
        "DRIVE_ANNOTATION_PATH = \"/content/drive/MyDrive/IZONE_finder/stage_dataset/annotation\"\n",
        "DRIVE_TXT_PATH = \"/content/drive/MyDrive/IZONE_finder/stage_dataset/txt\"\n",
        "\n",
        "LOCAL_IMAGE_PATH = \"/content/stage_dataset/image\"\n",
        "LOCAL_ANNOTATION_PATH = \"/content/stage_dataset/annotation\"\n",
        "LOCAL_TXT_PATH = \"/content/stage_dataset/txt\"\n",
        "\n",
        "IMAGE_ZIPFILE_PATH = os.path.join(DRIVE_IMAGE_PATH, \"stage_images.zip\")\n",
        "ANNOTATION_ZIPFILE_PATH = os.path.join(DRIVE_ANNOTATION_PATH, \"stage_annotations.zip\")"
      ],
      "execution_count": null,
      "outputs": []
    },
    {
      "cell_type": "code",
      "metadata": {
        "id": "OdhthGARhLhr",
        "colab": {
          "base_uri": "https://localhost:8080/",
          "height": 389
        },
        "outputId": "efa1681d-21cb-4246-ffad-46b28083802e"
      },
      "source": [
        "createFolder(LOCAL_IMAGE_PATH)\n",
        "createFolder(LOCAL_ANNOTATION_PATH)\n",
        "createFolder(LOCAL_TXT_PATH)\n",
        "\n",
        "stage_image = zipfile.ZipFile(IMAGE_ZIPFILE_PATH)\n",
        "stage_image.extractall(LOCAL_IMAGE_PATH)\n",
        "stage_image.close()\n",
        "\n",
        "stage_annotation = zipfile.ZipFile(ANNOTATION_ZIPFILE_PATH)\n",
        "stage_annotation.extractall(LOCAL_ANNOTATION_PATH)\n",
        "stage_annotation.close()\n",
        "\n",
        "!cp {DRIVE_TXT_PATH}/train.txt {LOCAL_TXT_PATH}\n",
        "!cp {DRIVE_TXT_PATH}/test.txt {LOCAL_TXT_PATH}\n",
        "!cp {DRIVE_TXT_PATH}/validation.txt {LOCAL_TXT_PATH}\n",
        "\n",
        "!rm /content/yolor/data/coco.names\n",
        "!rm /content/yolor/data/coco.yaml\n",
        "!cp {DRIVE_TXT_PATH}/coco.names /content/yolor/data\n",
        "!cp {DRIVE_TXT_PATH}/coco.yaml /content/yolor/data"
      ],
      "execution_count": null,
      "outputs": [
        {
          "output_type": "error",
          "ename": "FileNotFoundError",
          "evalue": "ignored",
          "traceback": [
            "\u001b[0;31m---------------------------------------------------------------------------\u001b[0m",
            "\u001b[0;31mFileNotFoundError\u001b[0m                         Traceback (most recent call last)",
            "\u001b[0;32m<ipython-input-5-dbb16f89a39e>\u001b[0m in \u001b[0;36m<module>\u001b[0;34m()\u001b[0m\n\u001b[1;32m      2\u001b[0m \u001b[0mcreateFolder\u001b[0m\u001b[0;34m(\u001b[0m\u001b[0mLOCAL_ANNOTATION_PATH\u001b[0m\u001b[0;34m)\u001b[0m\u001b[0;34m\u001b[0m\u001b[0;34m\u001b[0m\u001b[0m\n\u001b[1;32m      3\u001b[0m \u001b[0;34m\u001b[0m\u001b[0m\n\u001b[0;32m----> 4\u001b[0;31m \u001b[0mstage_image\u001b[0m \u001b[0;34m=\u001b[0m \u001b[0mzipfile\u001b[0m\u001b[0;34m.\u001b[0m\u001b[0mZipFile\u001b[0m\u001b[0;34m(\u001b[0m\u001b[0mIMAGE_ZIPFILE_PATH\u001b[0m\u001b[0;34m)\u001b[0m\u001b[0;34m\u001b[0m\u001b[0;34m\u001b[0m\u001b[0m\n\u001b[0m\u001b[1;32m      5\u001b[0m \u001b[0mstage_image\u001b[0m\u001b[0;34m.\u001b[0m\u001b[0mextractall\u001b[0m\u001b[0;34m(\u001b[0m\u001b[0mLOCAL_IMAGE_PATH\u001b[0m\u001b[0;34m)\u001b[0m\u001b[0;34m\u001b[0m\u001b[0;34m\u001b[0m\u001b[0m\n\u001b[1;32m      6\u001b[0m \u001b[0mstage_image\u001b[0m\u001b[0;34m.\u001b[0m\u001b[0mclose\u001b[0m\u001b[0;34m(\u001b[0m\u001b[0;34m)\u001b[0m\u001b[0;34m\u001b[0m\u001b[0;34m\u001b[0m\u001b[0m\n",
            "\u001b[0;32m/usr/lib/python3.7/zipfile.py\u001b[0m in \u001b[0;36m__init__\u001b[0;34m(self, file, mode, compression, allowZip64, compresslevel)\u001b[0m\n\u001b[1;32m   1238\u001b[0m             \u001b[0;32mwhile\u001b[0m \u001b[0;32mTrue\u001b[0m\u001b[0;34m:\u001b[0m\u001b[0;34m\u001b[0m\u001b[0;34m\u001b[0m\u001b[0m\n\u001b[1;32m   1239\u001b[0m                 \u001b[0;32mtry\u001b[0m\u001b[0;34m:\u001b[0m\u001b[0;34m\u001b[0m\u001b[0;34m\u001b[0m\u001b[0m\n\u001b[0;32m-> 1240\u001b[0;31m                     \u001b[0mself\u001b[0m\u001b[0;34m.\u001b[0m\u001b[0mfp\u001b[0m \u001b[0;34m=\u001b[0m \u001b[0mio\u001b[0m\u001b[0;34m.\u001b[0m\u001b[0mopen\u001b[0m\u001b[0;34m(\u001b[0m\u001b[0mfile\u001b[0m\u001b[0;34m,\u001b[0m \u001b[0mfilemode\u001b[0m\u001b[0;34m)\u001b[0m\u001b[0;34m\u001b[0m\u001b[0;34m\u001b[0m\u001b[0m\n\u001b[0m\u001b[1;32m   1241\u001b[0m                 \u001b[0;32mexcept\u001b[0m \u001b[0mOSError\u001b[0m\u001b[0;34m:\u001b[0m\u001b[0;34m\u001b[0m\u001b[0;34m\u001b[0m\u001b[0m\n\u001b[1;32m   1242\u001b[0m                     \u001b[0;32mif\u001b[0m \u001b[0mfilemode\u001b[0m \u001b[0;32min\u001b[0m \u001b[0mmodeDict\u001b[0m\u001b[0;34m:\u001b[0m\u001b[0;34m\u001b[0m\u001b[0;34m\u001b[0m\u001b[0m\n",
            "\u001b[0;31mFileNotFoundError\u001b[0m: [Errno 2] No such file or directory: '/content/drive/MyDrive/IZONE_finder/stage_dataset/image/stage_images.zip'"
          ]
        }
      ]
    },
    {
      "cell_type": "code",
      "metadata": {
        "id": "FBsCdpoBiAQJ"
      },
      "source": [
        "!python train.py --batch-size 8 --img 1280 1280 --data coco.yaml --cfg cfg/yolor_p6.cfg --weights '' --device 0 --name yolor_p6 --hyp hyp.scratch.1280.yaml --epochs 300"
      ],
      "execution_count": null,
      "outputs": []
    }
  ]
}